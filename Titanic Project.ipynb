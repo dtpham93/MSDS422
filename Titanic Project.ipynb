{
 "cells": [
  {
   "cell_type": "code",
   "execution_count": 1,
   "metadata": {},
   "outputs": [],
   "source": [
    "import pandas as pd\n",
    "import numpy as np\n",
    "import matplotlib.pyplot as plt\n",
    "\n",
    "titanic_train=pd.read_csv('train.csv')"
   ]
  },
  {
   "cell_type": "code",
   "execution_count": 2,
   "metadata": {},
   "outputs": [
    {
     "data": {
      "text/html": [
       "<div>\n",
       "<style scoped>\n",
       "    .dataframe tbody tr th:only-of-type {\n",
       "        vertical-align: middle;\n",
       "    }\n",
       "\n",
       "    .dataframe tbody tr th {\n",
       "        vertical-align: top;\n",
       "    }\n",
       "\n",
       "    .dataframe thead th {\n",
       "        text-align: right;\n",
       "    }\n",
       "</style>\n",
       "<table border=\"1\" class=\"dataframe\">\n",
       "  <thead>\n",
       "    <tr style=\"text-align: right;\">\n",
       "      <th></th>\n",
       "      <th>PassengerId</th>\n",
       "      <th>Survived</th>\n",
       "      <th>Pclass</th>\n",
       "      <th>Name</th>\n",
       "      <th>Sex</th>\n",
       "      <th>Age</th>\n",
       "      <th>SibSp</th>\n",
       "      <th>Parch</th>\n",
       "      <th>Ticket</th>\n",
       "      <th>Fare</th>\n",
       "      <th>Cabin</th>\n",
       "      <th>Embarked</th>\n",
       "    </tr>\n",
       "  </thead>\n",
       "  <tbody>\n",
       "    <tr>\n",
       "      <th>0</th>\n",
       "      <td>1</td>\n",
       "      <td>0</td>\n",
       "      <td>3</td>\n",
       "      <td>Braund, Mr. Owen Harris</td>\n",
       "      <td>male</td>\n",
       "      <td>22.0</td>\n",
       "      <td>1</td>\n",
       "      <td>0</td>\n",
       "      <td>A/5 21171</td>\n",
       "      <td>7.2500</td>\n",
       "      <td>NaN</td>\n",
       "      <td>S</td>\n",
       "    </tr>\n",
       "    <tr>\n",
       "      <th>1</th>\n",
       "      <td>2</td>\n",
       "      <td>1</td>\n",
       "      <td>1</td>\n",
       "      <td>Cumings, Mrs. John Bradley (Florence Briggs Th...</td>\n",
       "      <td>female</td>\n",
       "      <td>38.0</td>\n",
       "      <td>1</td>\n",
       "      <td>0</td>\n",
       "      <td>PC 17599</td>\n",
       "      <td>71.2833</td>\n",
       "      <td>C85</td>\n",
       "      <td>C</td>\n",
       "    </tr>\n",
       "    <tr>\n",
       "      <th>2</th>\n",
       "      <td>3</td>\n",
       "      <td>1</td>\n",
       "      <td>3</td>\n",
       "      <td>Heikkinen, Miss. Laina</td>\n",
       "      <td>female</td>\n",
       "      <td>26.0</td>\n",
       "      <td>0</td>\n",
       "      <td>0</td>\n",
       "      <td>STON/O2. 3101282</td>\n",
       "      <td>7.9250</td>\n",
       "      <td>NaN</td>\n",
       "      <td>S</td>\n",
       "    </tr>\n",
       "    <tr>\n",
       "      <th>3</th>\n",
       "      <td>4</td>\n",
       "      <td>1</td>\n",
       "      <td>1</td>\n",
       "      <td>Futrelle, Mrs. Jacques Heath (Lily May Peel)</td>\n",
       "      <td>female</td>\n",
       "      <td>35.0</td>\n",
       "      <td>1</td>\n",
       "      <td>0</td>\n",
       "      <td>113803</td>\n",
       "      <td>53.1000</td>\n",
       "      <td>C123</td>\n",
       "      <td>S</td>\n",
       "    </tr>\n",
       "    <tr>\n",
       "      <th>4</th>\n",
       "      <td>5</td>\n",
       "      <td>0</td>\n",
       "      <td>3</td>\n",
       "      <td>Allen, Mr. William Henry</td>\n",
       "      <td>male</td>\n",
       "      <td>35.0</td>\n",
       "      <td>0</td>\n",
       "      <td>0</td>\n",
       "      <td>373450</td>\n",
       "      <td>8.0500</td>\n",
       "      <td>NaN</td>\n",
       "      <td>S</td>\n",
       "    </tr>\n",
       "  </tbody>\n",
       "</table>\n",
       "</div>"
      ],
      "text/plain": [
       "   PassengerId  Survived  Pclass  \\\n",
       "0            1         0       3   \n",
       "1            2         1       1   \n",
       "2            3         1       3   \n",
       "3            4         1       1   \n",
       "4            5         0       3   \n",
       "\n",
       "                                                Name     Sex   Age  SibSp  \\\n",
       "0                            Braund, Mr. Owen Harris    male  22.0      1   \n",
       "1  Cumings, Mrs. John Bradley (Florence Briggs Th...  female  38.0      1   \n",
       "2                             Heikkinen, Miss. Laina  female  26.0      0   \n",
       "3       Futrelle, Mrs. Jacques Heath (Lily May Peel)  female  35.0      1   \n",
       "4                           Allen, Mr. William Henry    male  35.0      0   \n",
       "\n",
       "   Parch            Ticket     Fare Cabin Embarked  \n",
       "0      0         A/5 21171   7.2500   NaN        S  \n",
       "1      0          PC 17599  71.2833   C85        C  \n",
       "2      0  STON/O2. 3101282   7.9250   NaN        S  \n",
       "3      0            113803  53.1000  C123        S  \n",
       "4      0            373450   8.0500   NaN        S  "
      ]
     },
     "execution_count": 2,
     "metadata": {},
     "output_type": "execute_result"
    }
   ],
   "source": [
    "titanic_train.head()"
   ]
  },
  {
   "cell_type": "code",
   "execution_count": 3,
   "metadata": {
    "scrolled": true
   },
   "outputs": [
    {
     "name": "stdout",
     "output_type": "stream",
     "text": [
      "<class 'pandas.core.frame.DataFrame'>\n",
      "RangeIndex: 891 entries, 0 to 890\n",
      "Data columns (total 12 columns):\n",
      "PassengerId    891 non-null int64\n",
      "Survived       891 non-null int64\n",
      "Pclass         891 non-null int64\n",
      "Name           891 non-null object\n",
      "Sex            891 non-null object\n",
      "Age            714 non-null float64\n",
      "SibSp          891 non-null int64\n",
      "Parch          891 non-null int64\n",
      "Ticket         891 non-null object\n",
      "Fare           891 non-null float64\n",
      "Cabin          204 non-null object\n",
      "Embarked       889 non-null object\n",
      "dtypes: float64(2), int64(5), object(5)\n",
      "memory usage: 83.6+ KB\n"
     ]
    }
   ],
   "source": [
    "titanic_train.info()"
   ]
  },
  {
   "cell_type": "code",
   "execution_count": 4,
   "metadata": {},
   "outputs": [
    {
     "data": {
      "text/plain": [
       "PassengerId      0\n",
       "Survived         0\n",
       "Pclass           0\n",
       "Name             0\n",
       "Sex              0\n",
       "Age            177\n",
       "SibSp            0\n",
       "Parch            0\n",
       "Ticket           0\n",
       "Fare             0\n",
       "Cabin          687\n",
       "Embarked         2\n",
       "dtype: int64"
      ]
     },
     "execution_count": 4,
     "metadata": {},
     "output_type": "execute_result"
    }
   ],
   "source": [
    "titanic_train.isnull().sum()"
   ]
  },
  {
   "cell_type": "code",
   "execution_count": 5,
   "metadata": {},
   "outputs": [
    {
     "data": {
      "image/png": "[encoded data removed]",
      "text/plain": [
       "<Figure size 1440x1080 with 9 Axes>"
      ]
     },
     "metadata": {},
     "output_type": "display_data"
    }
   ],
   "source": [
    "titanic_train.hist(bins=25, figsize=(20,15))\n",
    "plt.show()"
   ]
  },
  {
   "cell_type": "code",
   "execution_count": 6,
   "metadata": {},
   "outputs": [
    {
     "data": {
      "image/png": "[encoded data removed]",
      "text/plain": [
       "<Figure size 432x288 with 1 Axes>"
      ]
     },
     "metadata": {},
     "output_type": "display_data"
    }
   ],
   "source": [
    "male_passengers = sum(titanic_train[\"Sex\"]==\"male\")\n",
    "female_passengers = sum(titanic_train[\"Sex\"]==\"female\")\n",
    "counts = [male_passengers, female_passengers]\n",
    "bars = (\"Male\", \"Female\")\n",
    "y_pos = np.arange(len(bars))\n",
    "\n",
    "plt.bar(y_pos, counts, color=(\"blue\", \"orange\"), width =0.45)\n",
    "plt.xticks(y_pos, bars)\n",
    "plt.ylabel(\"Count\")\n",
    "plt.title(\"Passenger Count by Gender\")\n",
    "\n",
    "plt.show()"
   ]
  },
  {
   "cell_type": "code",
   "execution_count": 7,
   "metadata": {},
   "outputs": [
    {
     "data": {
      "image/png": "[encoded data removed]",
      "text/plain": [
       "<Figure size 432x288 with 1 Axes>"
      ]
     },
     "metadata": {},
     "output_type": "display_data"
    }
   ],
   "source": [
    "p_class = titanic_train['Pclass'].value_counts().plot.bar()\n",
    "p_class.set_title('Number Of Passengers By Pclass')\n",
    "p_class.set_ylabel('Count')\n",
    "plt.show()"
   ]
  },
  {
   "cell_type": "code",
   "execution_count": 12,
   "metadata": {},
   "outputs": [
    {
     "data": {
      "text/html": [
       "<style  type=\"text/css\" >\n",
       "    #T_becba49c_342d_11ea_9872_a45e60eece73row0_col0 {\n",
       "            background-color:  #fff7fb;\n",
       "        }    #T_becba49c_342d_11ea_9872_a45e60eece73row0_col1 {\n",
       "            background-color:  #fff7fb;\n",
       "        }    #T_becba49c_342d_11ea_9872_a45e60eece73row0_col2 {\n",
       "            background-color:  #f7f0f7;\n",
       "        }    #T_becba49c_342d_11ea_9872_a45e60eece73row0_col3 {\n",
       "            background-color:  #fff7fb;\n",
       "        }    #T_becba49c_342d_11ea_9872_a45e60eece73row1_col0 {\n",
       "            background-color:  #97b7d7;\n",
       "        }    #T_becba49c_342d_11ea_9872_a45e60eece73row1_col1 {\n",
       "            background-color:  #abbfdc;\n",
       "        }    #T_becba49c_342d_11ea_9872_a45e60eece73row1_col2 {\n",
       "            background-color:  #f7f0f7;\n",
       "        }    #T_becba49c_342d_11ea_9872_a45e60eece73row1_col3 {\n",
       "            background-color:  #dedcec;\n",
       "        }    #T_becba49c_342d_11ea_9872_a45e60eece73row2_col0 {\n",
       "            background-color:  #b0c2de;\n",
       "        }    #T_becba49c_342d_11ea_9872_a45e60eece73row2_col1 {\n",
       "            background-color:  #7dacd1;\n",
       "        }    #T_becba49c_342d_11ea_9872_a45e60eece73row2_col2 {\n",
       "            background-color:  #529bc7;\n",
       "        }    #T_becba49c_342d_11ea_9872_a45e60eece73row2_col3 {\n",
       "            background-color:  #7dacd1;\n",
       "        }    #T_becba49c_342d_11ea_9872_a45e60eece73row3_col0 {\n",
       "            background-color:  #dcdaeb;\n",
       "        }    #T_becba49c_342d_11ea_9872_a45e60eece73row3_col1 {\n",
       "            background-color:  #f6eff7;\n",
       "        }    #T_becba49c_342d_11ea_9872_a45e60eece73row3_col2 {\n",
       "            background-color:  #fff7fb;\n",
       "        }    #T_becba49c_342d_11ea_9872_a45e60eece73row3_col3 {\n",
       "            background-color:  #faf3f9;\n",
       "        }    #T_becba49c_342d_11ea_9872_a45e60eece73row4_col0 {\n",
       "            background-color:  #023858;\n",
       "        }    #T_becba49c_342d_11ea_9872_a45e60eece73row4_col1 {\n",
       "            background-color:  #023858;\n",
       "        }    #T_becba49c_342d_11ea_9872_a45e60eece73row4_col2 {\n",
       "            background-color:  #023858;\n",
       "        }    #T_becba49c_342d_11ea_9872_a45e60eece73row4_col3 {\n",
       "            background-color:  #023858;\n",
       "        }</style>  \n",
       "<table id=\"T_becba49c_342d_11ea_9872_a45e60eece73\" > \n",
       "<thead>    <tr> \n",
       "        <th class=\"blank\" ></th> \n",
       "        <th class=\"index_name level0\" >Pclass</th> \n",
       "        <th class=\"col_heading level0 col0\" >1</th> \n",
       "        <th class=\"col_heading level0 col1\" >2</th> \n",
       "        <th class=\"col_heading level0 col2\" >3</th> \n",
       "        <th class=\"col_heading level0 col3\" >All</th> \n",
       "    </tr>    <tr> \n",
       "        <th class=\"index_name level0\" >Sex</th> \n",
       "        <th class=\"index_name level1\" >Survived</th> \n",
       "        <th class=\"blank\" ></th> \n",
       "        <th class=\"blank\" ></th> \n",
       "        <th class=\"blank\" ></th> \n",
       "        <th class=\"blank\" ></th> \n",
       "    </tr></thead> \n",
       "<tbody>    <tr> \n",
       "        <th id=\"T_becba49c_342d_11ea_9872_a45e60eece73level0_row0\" class=\"row_heading level0 row0\" rowspan=2>female</th> \n",
       "        <th id=\"T_becba49c_342d_11ea_9872_a45e60eece73level1_row0\" class=\"row_heading level1 row0\" >0</th> \n",
       "        <td id=\"T_becba49c_342d_11ea_9872_a45e60eece73row0_col0\" class=\"data row0 col0\" >3</td> \n",
       "        <td id=\"T_becba49c_342d_11ea_9872_a45e60eece73row0_col1\" class=\"data row0 col1\" >6</td> \n",
       "        <td id=\"T_becba49c_342d_11ea_9872_a45e60eece73row0_col2\" class=\"data row0 col2\" >72</td> \n",
       "        <td id=\"T_becba49c_342d_11ea_9872_a45e60eece73row0_col3\" class=\"data row0 col3\" >81</td> \n",
       "    </tr>    <tr> \n",
       "        <th id=\"T_becba49c_342d_11ea_9872_a45e60eece73level1_row1\" class=\"row_heading level1 row1\" >1</th> \n",
       "        <td id=\"T_becba49c_342d_11ea_9872_a45e60eece73row1_col0\" class=\"data row1 col0\" >91</td> \n",
       "        <td id=\"T_becba49c_342d_11ea_9872_a45e60eece73row1_col1\" class=\"data row1 col1\" >70</td> \n",
       "        <td id=\"T_becba49c_342d_11ea_9872_a45e60eece73row1_col2\" class=\"data row1 col2\" >72</td> \n",
       "        <td id=\"T_becba49c_342d_11ea_9872_a45e60eece73row1_col3\" class=\"data row1 col3\" >233</td> \n",
       "    </tr>    <tr> \n",
       "        <th id=\"T_becba49c_342d_11ea_9872_a45e60eece73level0_row2\" class=\"row_heading level0 row2\" rowspan=2>male</th> \n",
       "        <th id=\"T_becba49c_342d_11ea_9872_a45e60eece73level1_row2\" class=\"row_heading level1 row2\" >0</th> \n",
       "        <td id=\"T_becba49c_342d_11ea_9872_a45e60eece73row2_col0\" class=\"data row2 col0\" >77</td> \n",
       "        <td id=\"T_becba49c_342d_11ea_9872_a45e60eece73row2_col1\" class=\"data row2 col1\" >91</td> \n",
       "        <td id=\"T_becba49c_342d_11ea_9872_a45e60eece73row2_col2\" class=\"data row2 col2\" >300</td> \n",
       "        <td id=\"T_becba49c_342d_11ea_9872_a45e60eece73row2_col3\" class=\"data row2 col3\" >468</td> \n",
       "    </tr>    <tr> \n",
       "        <th id=\"T_becba49c_342d_11ea_9872_a45e60eece73level1_row3\" class=\"row_heading level1 row3\" >1</th> \n",
       "        <td id=\"T_becba49c_342d_11ea_9872_a45e60eece73row3_col0\" class=\"data row3 col0\" >45</td> \n",
       "        <td id=\"T_becba49c_342d_11ea_9872_a45e60eece73row3_col1\" class=\"data row3 col1\" >17</td> \n",
       "        <td id=\"T_becba49c_342d_11ea_9872_a45e60eece73row3_col2\" class=\"data row3 col2\" >47</td> \n",
       "        <td id=\"T_becba49c_342d_11ea_9872_a45e60eece73row3_col3\" class=\"data row3 col3\" >109</td> \n",
       "    </tr>    <tr> \n",
       "        <th id=\"T_becba49c_342d_11ea_9872_a45e60eece73level0_row4\" class=\"row_heading level0 row4\" >All</th> \n",
       "        <th id=\"T_becba49c_342d_11ea_9872_a45e60eece73level1_row4\" class=\"row_heading level1 row4\" ></th> \n",
       "        <td id=\"T_becba49c_342d_11ea_9872_a45e60eece73row4_col0\" class=\"data row4 col0\" >216</td> \n",
       "        <td id=\"T_becba49c_342d_11ea_9872_a45e60eece73row4_col1\" class=\"data row4 col1\" >184</td> \n",
       "        <td id=\"T_becba49c_342d_11ea_9872_a45e60eece73row4_col2\" class=\"data row4 col2\" >491</td> \n",
       "        <td id=\"T_becba49c_342d_11ea_9872_a45e60eece73row4_col3\" class=\"data row4 col3\" >891</td> \n",
       "    </tr></tbody> \n",
       "</table> "
      ],
      "text/plain": [
       "<pandas.io.formats.style.Styler at 0x117825c18>"
      ]
     },
     "execution_count": 12,
     "metadata": {},
     "output_type": "execute_result"
    }
   ],
   "source": [
    "pd.crosstab([titanic_train.Sex, titanic_train.Survived],titanic_train.Pclass,margins=True).style.background_gradient()"
   ]
  },
  {
   "cell_type": "code",
   "execution_count": 17,
   "metadata": {},
   "outputs": [
    {
     "data": {
      "text/html": [
       "<style  type=\"text/css\" >\n",
       "    #T_701606fa_342e_11ea_bed9_a45e60eece73row0_col0 {\n",
       "            background-color:  #abbfdc;\n",
       "        }    #T_701606fa_342e_11ea_bed9_a45e60eece73row0_col1 {\n",
       "            background-color:  #67a4cc;\n",
       "        }    #T_701606fa_342e_11ea_bed9_a45e60eece73row0_col2 {\n",
       "            background-color:  #2383ba;\n",
       "        }    #T_701606fa_342e_11ea_bed9_a45e60eece73row0_col3 {\n",
       "            background-color:  #569dc8;\n",
       "        }    #T_701606fa_342e_11ea_bed9_a45e60eece73row1_col0 {\n",
       "            background-color:  #4094c3;\n",
       "        }    #T_701606fa_342e_11ea_bed9_a45e60eece73row1_col1 {\n",
       "            background-color:  #a8bedc;\n",
       "        }    #T_701606fa_342e_11ea_bed9_a45e60eece73row1_col2 {\n",
       "            background-color:  #e7e3f0;\n",
       "        }    #T_701606fa_342e_11ea_bed9_a45e60eece73row1_col3 {\n",
       "            background-color:  #bfc9e1;\n",
       "        }    #T_701606fa_342e_11ea_bed9_a45e60eece73row2_col0 {\n",
       "            background-color:  #fff7fb;\n",
       "        }    #T_701606fa_342e_11ea_bed9_a45e60eece73row2_col1 {\n",
       "            background-color:  #fff7fb;\n",
       "        }    #T_701606fa_342e_11ea_bed9_a45e60eece73row2_col2 {\n",
       "            background-color:  #fdf5fa;\n",
       "        }    #T_701606fa_342e_11ea_bed9_a45e60eece73row2_col3 {\n",
       "            background-color:  #fff7fb;\n",
       "        }    #T_701606fa_342e_11ea_bed9_a45e60eece73row3_col0 {\n",
       "            background-color:  #fdf5fa;\n",
       "        }    #T_701606fa_342e_11ea_bed9_a45e60eece73row3_col1 {\n",
       "            background-color:  #f0eaf4;\n",
       "        }    #T_701606fa_342e_11ea_bed9_a45e60eece73row3_col2 {\n",
       "            background-color:  #fff7fb;\n",
       "        }    #T_701606fa_342e_11ea_bed9_a45e60eece73row3_col3 {\n",
       "            background-color:  #fdf5fa;\n",
       "        }    #T_701606fa_342e_11ea_bed9_a45e60eece73row4_col0 {\n",
       "            background-color:  #023858;\n",
       "        }    #T_701606fa_342e_11ea_bed9_a45e60eece73row4_col1 {\n",
       "            background-color:  #023858;\n",
       "        }    #T_701606fa_342e_11ea_bed9_a45e60eece73row4_col2 {\n",
       "            background-color:  #023858;\n",
       "        }    #T_701606fa_342e_11ea_bed9_a45e60eece73row4_col3 {\n",
       "            background-color:  #023858;\n",
       "        }</style>  \n",
       "<table id=\"T_701606fa_342e_11ea_bed9_a45e60eece73\" > \n",
       "<thead>    <tr> \n",
       "        <th class=\"blank\" ></th> \n",
       "        <th class=\"index_name level0\" >Pclass</th> \n",
       "        <th class=\"col_heading level0 col0\" >1</th> \n",
       "        <th class=\"col_heading level0 col1\" >2</th> \n",
       "        <th class=\"col_heading level0 col2\" >3</th> \n",
       "        <th class=\"col_heading level0 col3\" >All</th> \n",
       "    </tr>    <tr> \n",
       "        <th class=\"index_name level0\" >Child</th> \n",
       "        <th class=\"index_name level1\" >Survived</th> \n",
       "        <th class=\"blank\" ></th> \n",
       "        <th class=\"blank\" ></th> \n",
       "        <th class=\"blank\" ></th> \n",
       "        <th class=\"blank\" ></th> \n",
       "    </tr></thead> \n",
       "<tbody>    <tr> \n",
       "        <th id=\"T_701606fa_342e_11ea_bed9_a45e60eece73level0_row0\" class=\"row_heading level0 row0\" rowspan=2>0</th> \n",
       "        <th id=\"T_701606fa_342e_11ea_bed9_a45e60eece73level1_row0\" class=\"row_heading level1 row0\" >0</th> \n",
       "        <td id=\"T_701606fa_342e_11ea_bed9_a45e60eece73row0_col0\" class=\"data row0 col0\" >79</td> \n",
       "        <td id=\"T_701606fa_342e_11ea_bed9_a45e60eece73row0_col1\" class=\"data row0 col1\" >97</td> \n",
       "        <td id=\"T_701606fa_342e_11ea_bed9_a45e60eece73row0_col2\" class=\"data row0 col2\" >339</td> \n",
       "        <td id=\"T_701606fa_342e_11ea_bed9_a45e60eece73row0_col3\" class=\"data row0 col3\" >515</td> \n",
       "    </tr>    <tr> \n",
       "        <th id=\"T_701606fa_342e_11ea_bed9_a45e60eece73level1_row1\" class=\"row_heading level1 row1\" >1</th> \n",
       "        <td id=\"T_701606fa_342e_11ea_bed9_a45e60eece73row1_col0\" class=\"data row1 col0\" >131</td> \n",
       "        <td id=\"T_701606fa_342e_11ea_bed9_a45e60eece73row1_col1\" class=\"data row1 col1\" >68</td> \n",
       "        <td id=\"T_701606fa_342e_11ea_bed9_a45e60eece73row1_col2\" class=\"data row1 col2\" >94</td> \n",
       "        <td id=\"T_701606fa_342e_11ea_bed9_a45e60eece73row1_col3\" class=\"data row1 col3\" >293</td> \n",
       "    </tr>    <tr> \n",
       "        <th id=\"T_701606fa_342e_11ea_bed9_a45e60eece73level0_row2\" class=\"row_heading level0 row2\" rowspan=2>1</th> \n",
       "        <th id=\"T_701606fa_342e_11ea_bed9_a45e60eece73level1_row2\" class=\"row_heading level1 row2\" >0</th> \n",
       "        <td id=\"T_701606fa_342e_11ea_bed9_a45e60eece73row2_col0\" class=\"data row2 col0\" >1</td> \n",
       "        <td id=\"T_701606fa_342e_11ea_bed9_a45e60eece73row2_col1\" class=\"data row2 col1\" >0</td> \n",
       "        <td id=\"T_701606fa_342e_11ea_bed9_a45e60eece73row2_col2\" class=\"data row2 col2\" >33</td> \n",
       "        <td id=\"T_701606fa_342e_11ea_bed9_a45e60eece73row2_col3\" class=\"data row2 col3\" >34</td> \n",
       "    </tr>    <tr> \n",
       "        <th id=\"T_701606fa_342e_11ea_bed9_a45e60eece73level1_row3\" class=\"row_heading level1 row3\" >1</th> \n",
       "        <td id=\"T_701606fa_342e_11ea_bed9_a45e60eece73row3_col0\" class=\"data row3 col0\" >5</td> \n",
       "        <td id=\"T_701606fa_342e_11ea_bed9_a45e60eece73row3_col1\" class=\"data row3 col1\" >19</td> \n",
       "        <td id=\"T_701606fa_342e_11ea_bed9_a45e60eece73row3_col2\" class=\"data row3 col2\" >25</td> \n",
       "        <td id=\"T_701606fa_342e_11ea_bed9_a45e60eece73row3_col3\" class=\"data row3 col3\" >49</td> \n",
       "    </tr>    <tr> \n",
       "        <th id=\"T_701606fa_342e_11ea_bed9_a45e60eece73level0_row4\" class=\"row_heading level0 row4\" >All</th> \n",
       "        <th id=\"T_701606fa_342e_11ea_bed9_a45e60eece73level1_row4\" class=\"row_heading level1 row4\" ></th> \n",
       "        <td id=\"T_701606fa_342e_11ea_bed9_a45e60eece73row4_col0\" class=\"data row4 col0\" >216</td> \n",
       "        <td id=\"T_701606fa_342e_11ea_bed9_a45e60eece73row4_col1\" class=\"data row4 col1\" >184</td> \n",
       "        <td id=\"T_701606fa_342e_11ea_bed9_a45e60eece73row4_col2\" class=\"data row4 col2\" >491</td> \n",
       "        <td id=\"T_701606fa_342e_11ea_bed9_a45e60eece73row4_col3\" class=\"data row4 col3\" >891</td> \n",
       "    </tr></tbody> \n",
       "</table> "
      ],
      "text/plain": [
       "<pandas.io.formats.style.Styler at 0x118c24a20>"
      ]
     },
     "execution_count": 17,
     "metadata": {},
     "output_type": "execute_result"
    }
   ],
   "source": [
    "titanic_train[\"Child\"] = (titanic_train[\"Age\"]<16).astype(int)\n",
    "pd.crosstab([titanic_train.Child, titanic_train.Survived],titanic_train.Pclass,margins=True).style.background_gradient()"
   ]
  },
  {
   "cell_type": "code",
   "execution_count": null,
   "metadata": {},
   "outputs": [],
   "source": []
  }
 ],
 "metadata": {
  "kernelspec": {
   "display_name": "Python 3",
   "language": "python",
   "name": "python3"
  },
  "language_info": {
   "codemirror_mode": {
    "name": "ipython",
    "version": 3
   },
   "file_extension": ".py",
   "mimetype": "text/x-python",
   "name": "python",
   "nbconvert_exporter": "python",
   "pygments_lexer": "ipython3",
   "version": "3.6.5"
  }
 },
 "nbformat": 4,
 "nbformat_minor": 2
}
